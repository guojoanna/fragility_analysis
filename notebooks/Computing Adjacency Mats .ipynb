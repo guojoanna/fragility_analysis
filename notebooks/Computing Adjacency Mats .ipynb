{
 "cells": [
  {
   "cell_type": "markdown",
   "metadata": {},
   "source": [
    "# Fragility Data Analysis - Compute State Evolution Matrices\n",
    "Using this notebook to prototype the functions to compute the state evolution of each dataset"
   ]
  },
  {
   "cell_type": "code",
   "execution_count": 24,
   "metadata": {
    "collapsed": false
   },
   "outputs": [
    {
     "name": "stderr",
     "output_type": "stream",
     "text": [
      "/usr/local/lib/python2.7/dist-packages/sklearn/cross_validation.py:44: DeprecationWarning: This module was deprecated in version 0.18 in favor of the model_selection module into which all the refactored classes and functions are moved. Also note that the interface of the new CV iterators are different from that of this module. This module will be removed in 0.20.\n",
      "  \"This module will be removed in 0.20.\", DeprecationWarning)\n",
      "/usr/local/lib/python2.7/dist-packages/sklearn/grid_search.py:43: DeprecationWarning: This module was deprecated in version 0.18 in favor of the model_selection module into which all the refactored classes and functions are moved. This module will be removed in 0.20.\n",
      "  DeprecationWarning)\n"
     ]
    }
   ],
   "source": [
    "import pandas as pd\n",
    "import numpy as np\n",
    "import json\n",
    "from IPython.display import display\n",
    "import os\n",
    "\n",
    "import scipy, scipy.io\n",
    "try:\n",
    "    import cPickle as pickle\n",
    "except:\n",
    "    import pickle\n",
    "\n",
    "import gzip\n",
    "import cStringIO\n",
    "import bz2,json,contextlib\n",
    "\n",
    "import matplotlib\n",
    "from matplotlib import *\n",
    "from matplotlib import pyplot as plt\n",
    "import itertools\n",
    "from mpl_toolkits.axes_grid1 import make_axes_locatable\n",
    "# pretty charting\n",
    "import seaborn as sns\n",
    "sns.set_palette('muted')\n",
    "sns.set_style('darkgrid')\n",
    "from natsort import natsorted, ns\n",
    "\n",
    "%matplotlib inline\n",
    "\n",
    "## sklearn imports\n",
    "import sklearn.linear_model\n",
    "import sklearn.cross_validation\n",
    "import sklearn.tree\n",
    "import sklearn.ensemble\n",
    "import sklearn.preprocessing\n",
    "import sklearn.feature_selection\n",
    "import sklearn.pipeline\n",
    "import sklearn.grid_search\n",
    "\n",
    "import loadmat"
   ]
  },
  {
   "cell_type": "code",
   "execution_count": 4,
   "metadata": {
    "collapsed": false
   },
   "outputs": [
    {
     "name": "stdout",
     "output_type": "stream",
     "text": [
      "EXTERNAL IS:  0\n"
     ]
    }
   ],
   "source": [
    "## Take .mat EEG files and convert them to .json data\n",
    "\n",
    "patients = [\n",
    "            'pt1sz2', 'pt1sz3', 'pt1sz4', \\\n",
    "            'pt2sz1', 'pt2sz3', \n",
    "            'pt2sz4', \\\n",
    "            'pt3sz2', 'pt3sz4', 'pt6sz3', 'pt6sz4', 'pt6sz5', \\\n",
    "            'pt7sz19', 'pt7sz21', 'pt7sz22', \\\n",
    "            'pt8sz1', 'pt8sz2', 'pt8sz3', \\\n",
    "            'JH101sz1', 'JH101sz2', 'JH101sz3', 'JH101sz4', \\\n",
    "            'JH102sz1', 'JH102sz2', 'JH102sz3', 'JH102sz4', 'JH102sz5', 'JH102sz6', \\\n",
    "            'JH103sz1', 'JH103sz2', 'JH103sz3', \\\n",
    "            'JH104sz1', 'JH104sz2', 'JH104sz3', \\\n",
    "            'JH105sz1', 'JH105sz2', 'JH105sz3', 'JH105sz4', 'JH105sz5',\\\n",
    "            'JH106sz1', 'JH106sz2', 'JH106sz3', 'JH106sz4', 'JH106sz5', 'JH106sz6', \\\n",
    "            'JH107sz1', 'JH107sz2', 'JH107sz3', 'JH107sz4', 'JH107sz5', 'JH107sz6', 'JH107sz7', 'JH107sz8', 'JH107sz9', \\\n",
    "            'JH108sz1', 'JH108sz2', 'JH108sz3', 'JH108sz4', 'JH108sz5', 'JH108sz6', 'JH108sz7'\n",
    "           ]\n",
    "EXTERNAL = 0\n",
    "\n",
    "# initialize directory with data\n",
    "dataDir = '../fragility_dataanalysis/data/'\n",
    "iiDataDir = '../fragility_dataanalysis/data/interictal_data/'\n",
    "newDataDir = '../fragility_dataanalysis/data/json/' # new directory to save data\n",
    "\n",
    "if EXTERNAL:\n",
    "    dataDir = '/Volumes/NIL_PASS/data/'\n",
    "    iiDataDir = '/Volumes/NIL_PASS/data/interictal_data/'\n",
    "    newDataDir = '/Volumes/NIL_PASS/data/json/'\n",
    "    \n",
    "print 'EXTERNAL IS: ', EXTERNAL"
   ]
  },
  {
   "cell_type": "markdown",
   "metadata": {},
   "source": [
    "## Prototype of LTV Model Class\n"
   ]
  },
  {
   "cell_type": "code",
   "execution_count": 178,
   "metadata": {
    "collapsed": false
   },
   "outputs": [],
   "source": [
    "from scipy import signal\n",
    "import numpy as np\n",
    "\n",
    "class LinearTimeModel(object):\n",
    "    \"\"\" A Linear Time Invariant Model used for EEG data analysis. Each LTI model has the following\n",
    "    attributes:\n",
    "    \n",
    "    Attributes:\n",
    "    - winSize: the window size used to construct a model from data\n",
    "    - stepSize: the step size to slide window over data\n",
    "    - filterType: the filter applied to data before constructing model (None, notch, adaptive)\n",
    "    - l2: regularization parameter to enforce some degree of smoothness and sparsity\n",
    "    - frequency: the frequency sampling in Hz\n",
    "    - modelType: the type of model used \n",
    "    - clinicalModel: a link to a clinical model if applicable\n",
    "    \"\"\"\n",
    "    \n",
    "    def __init__(self, name, winSize=250, stepSize=125, filterType='adaptive', frequency=1000, l2=0, modelType='least-squares', clinicalModel=None):\n",
    "        self.name = name\n",
    "        self.winSize = winSize\n",
    "        self.stepSize = stepSize\n",
    "        self.filterType = filterType\n",
    "        self.frequency = frequency\n",
    "        self.l2 = l2\n",
    "        self.modelType = modelType\n",
    "        self.clinicalModel = clinicalModel\n",
    "        \n",
    "    def filter_data(self, data, params):\n",
    "        if self.filterType == 'notch':\n",
    "            print \"Notch filtering...\"\n",
    "            self.filtered_data = buttfilt(data, freq_range=np.array([59.5, 60.5]), sample_rate=self.frequency, filt_type='bandstop', order=1)\n",
    "\n",
    "        elif self.filterType == 'adaptive':\n",
    "            print \"Adaptive filtering...\"\n",
    "        else:\n",
    "            print \"No filter applied to data. Are you sure?\"\n",
    "            \n",
    "        return data\n",
    "        \n",
    "#     def compute_model(self, data):\n",
    "        \n",
    "\n",
    "def removePowerLine(data, num_harmonics, B, P, W, fs=1000., f_ac=None):\n",
    "    # get shape of data matrix\n",
    "    num_chans, num_time = data.shape\n",
    "    s = np.zeros((num_chans, num_time), dtype=float)\n",
    "    M = num_harmonics\n",
    "    nyq_fs = fs/2\n",
    "    \n",
    "    # if power line frequency is known, set cut off frequencies\n",
    "    if f_ac and f_ac==50:\n",
    "        fc1 = 48\n",
    "        fc2 = 52\n",
    "    elif f_ac and f_ac==60:\n",
    "        fc1 = 58\n",
    "        fc2 = 62\n",
    "    else:\n",
    "        fc1 = 40\n",
    "        fc2 = 70\n",
    "        \n",
    "    exChan = 0 # a channel to estimate the frequencies at\n",
    "    \n",
    "    # remove mean from the data to center at 0\n",
    "    data = data - np.mean(data, axis=0)\n",
    "    \n",
    "    # 3dB cutoff bandwidths\n",
    "    alpha_o = (1 - np.arctan(np.pi * B[0]/fs)) / (1 + np.arctan(np.pi * B[0]/fs)) # initial alpha_0\n",
    "    alpha_inf = (1 - np.tan(np.pi * B[1]/fs)) / (1 + np.tan(np.pi * B[1]/fs))     # asymptotic value\n",
    "    alpha_st = np.exp(np.log(0.05) / (B[2] * fs + 1))                             # rate of change\n",
    "    \n",
    "    # frequency estimator's forgetting factors\n",
    "    lambda_o = np.exp(np.log(0.05) / (P[0] * fs + 1))                             # initial lambda_0\n",
    "    lambda_inf = np.exp(np.log(0.05) / (P[1] * fs + 1))\n",
    "    lambda_st = np.exp(np.log(0.05) / (P[2] * fs + 1))\n",
    "    \n",
    "    # smoothing parameter\n",
    "    gamma = (1 - np.tan(0.5 * np.pi * np.minimum(90, fs/2) / fs)) / (1 + np.tan(0.5 * np.pi * np.minimum(90, fs/2)/fs))\n",
    "    \n",
    "    # phase/amplitude estimator forgetting factor\n",
    "    lambda_a = np.exp(np.log(0.05) / (W * fs + 1))\n",
    "    if lambda_a.size == 1:\n",
    "        lambda_a = np.ndarray.flatten(lambda_a * np.ones((1, M)))\n",
    "    \n",
    "    # initialize variables\n",
    "    kappa_f = 0\n",
    "    kappa_k = np.zeros((M+2,1))\n",
    "    D = 10\n",
    "    C = 5\n",
    "    f_n1 = 0\n",
    "    f_n2 = 0\n",
    "    \n",
    "    # initialize first oscillator\n",
    "    u_kp = np.ones((M,1)) # u_k'\n",
    "    u_k = np.ones((M,1))  # u_k\n",
    "    \n",
    "    # initialize RLS parameters\n",
    "    r1 = 100 * np.reshape(np.ones((num_chans, M)), (num_chans, M))\n",
    "    r4 = 100 * np.reshape(np.ones((num_chans, M)), (num_chans, M))\n",
    "    a = np.reshape(np.zeros((num_chans, M)), (num_chans, M))\n",
    "    b = np.reshape(np.zeros((num_chans, M)), (num_chans, M))\n",
    "    \n",
    "    # IIR Bandpass Filtering\n",
    "    order = 4\n",
    "    b_butter, a_butter = signal.butter(order, [fc1/nyq_fs, fc2/nyq_fs], btype='bandpass', analog=False, output='ba')\n",
    "    data_f = signal.filtfilt(b_butter, a_butter, data[exChan, :]) # perform band pass filtering \n",
    "    data_f = np.append(np.array((0)), np.diff(data_f))\n",
    "    \n",
    "    ## Start Data Processing\n",
    "    for t in range(0, num_time):\n",
    "        # lattice filter\n",
    "        f_n = data_f[t] + kappa_f*(1 + alpha_o)*f_n1 - alpha_o*f_n2\n",
    "        \n",
    "        # frequency estimation\n",
    "        C = lambda_o*C + (1-lambda_o) * f_n1*(f_n+f_n2)\n",
    "        D = lambda_o*D + (1-lambda_o) * 2 * f_n1**2.\n",
    "        kappa_t = C/D\n",
    "        if kappa_t < -1:\n",
    "            kappa_t = -1\n",
    "        elif kappa_t > 1:\n",
    "            kappa_t = 1\n",
    "        kappa_f = gamma*kappa_f + (1-gamma)*kappa_t\n",
    "        \n",
    "        # update lattice states\n",
    "        f_n2 = f_n1\n",
    "        f_n1 = f_n\n",
    "        \n",
    "        # Bandwidth and Forgetting Factor updates\n",
    "        alpha_f = alpha_st*alpha_o + (1-alpha_st)*alpha_inf\n",
    "        lambda_f = lambda_st*lambda_o + (1-lambda_st)*lambda_inf\n",
    "        \n",
    "        # Discrete Time Oscillators\n",
    "        kappa_k[1] = 1\n",
    "        kappa_k[0] = kappa_f\n",
    "        e = data[:, t]\n",
    "        \n",
    "        # loop through each harmonic\n",
    "        for k in range(0, num_harmonics):\n",
    "            kappa_k[k+2] = 2*kappa_f*kappa_k[k+1] - kappa_k[k]\n",
    "            \n",
    "            # Oscillator\n",
    "            temp = kappa_k[k+2] * (u_k[k] + u_kp[k])\n",
    "            temp2 = u_k[k]\n",
    "            u_k[k] = temp - u_kp[k]\n",
    "            u_kp[k] = temp + temp2\n",
    "            \n",
    "            # Gain Control\n",
    "            G = 1.5 - (u_k[k]**2 - (kappa_k[k+2]-1) / (kappa_k[k+2] + 1)*u_kp[k]**2)\n",
    "            if G < 0:\n",
    "                G = 1\n",
    "            u_k[k] = G* u_k[k]\n",
    "            u_kp[k] = G * u_kp[k]\n",
    "            \n",
    "            # Process multiple channels with Phase/Amplitude Adaptation\n",
    "            sincmp = a[:, k]*u_kp[k] + b[:,k]*u_k[k]\n",
    "            e = e - sincmp\n",
    "            \n",
    "            # Simplified RLS\n",
    "            r1[:, k] = lambda_a[k]*r1[:,k] + u_kp[k]**2\n",
    "            r4[:, k] = lambda_a[k]*r4[:,k] + u_k[k]**2\n",
    "            a[:,k] = a[:,k] + u_kp[k]*e / r1[:,k]\n",
    "            b[:,k] = b[:,k] + u_k[k]*e / r4[:,k]\n",
    "            \n",
    "            # end of loop through harmonics\n",
    "        # end of loop through time\n",
    "        s[:,t] = e\n",
    "    return s\n",
    "\n",
    "def buttfilt(data, freq_range, sample_rate=1000., filt_type='bandstop', order=1, num_harmonics=None):\n",
    "    nyq_fs = sample_rate/2 # nyquist frequency\n",
    "    if not num_harmonics:\n",
    "        num_harmonics = int(np.floor(sample_rate / 120)) - 1\n",
    "    \n",
    "    if isinstance(freq_range, list):\n",
    "        freq_range = np.array(freq_range)\n",
    "    \n",
    "    # go through each harmonic and filter it out\n",
    "    for i in range(0, num_harmonics):\n",
    "        b, a = signal.butter(order, list(freq_range/nyq_fs), btype=filt_type)\n",
    "        freq_range = freq_range+60\n",
    "        \n",
    "        # apply zero-phase distortion filtering on data\n",
    "        data = signal.filtfilt(b, a, data)\n",
    "        \n",
    "    return data"
   ]
  },
  {
   "cell_type": "markdown",
   "metadata": {},
   "source": [
    "## Testing Adaptive Filtering and Notch Filtering\n",
    "Here, we want to test the functions above for notch and adaptive filtering for time series data."
   ]
  },
  {
   "cell_type": "code",
   "execution_count": 179,
   "metadata": {
    "collapsed": false
   },
   "outputs": [
    {
     "name": "stdout",
     "output_type": "stream",
     "text": [
      "0\n",
      "1\n",
      "2\n"
     ]
    }
   ],
   "source": [
    "for i in range(0, 3):\n",
    "    print i"
   ]
  },
  {
   "cell_type": "code",
   "execution_count": 183,
   "metadata": {
    "collapsed": false
   },
   "outputs": [
    {
     "name": "stdout",
     "output_type": "stream",
     "text": [
      "(10240,)\n"
     ]
    },
    {
     "data": {
      "text/plain": [
       "<matplotlib.collections.QuadMesh at 0x7f115a090810>"
      ]
     },
     "execution_count": 183,
     "metadata": {},
     "output_type": "execute_result"
    },
    {
     "data": {
      "image/png": "[encoded data removed]",
      "text/plain": [
       "<matplotlib.figure.Figure at 0x7f1152b1f650>"
      ]
     },
     "metadata": {},
     "output_type": "display_data"
    },
    {
     "data": {
      "image/png": "[encoded data removed]",
      "text/plain": [
       "<matplotlib.figure.Figure at 0x7f1152dbb3d0>"
      ]
     },
     "metadata": {},
     "output_type": "display_data"
    },
    {
     "data": {
      "image/png": "[encoded data removed]",
      "text/plain": [
       "<matplotlib.figure.Figure at 0x7f11527361d0>"
      ]
     },
     "metadata": {},
     "output_type": "display_data"
    },
    {
     "data": {
      "image/png": "[encoded data removed]",
      "text/plain": [
       "<matplotlib.figure.Figure at 0x7f11528b0dd0>"
      ]
     },
     "metadata": {},
     "output_type": "display_data"
    }
   ],
   "source": [
    "def fftnoise(f):\n",
    "    f = np.array(f, dtype='complex')\n",
    "    Np = (len(f) - 1) // 2\n",
    "    phases = np.random.rand(Np) * 2 * np.pi\n",
    "    phases = np.cos(phases) + 1j * np.sin(phases)\n",
    "    f[1:Np+1] *= phases\n",
    "    f[-1:-1-Np:-1] = np.conj(f[1:Np+1])\n",
    "    return np.fft.ifft(f).real\n",
    "\n",
    "def band_limited_noise(min_freq, max_freq, samples=1024, samplerate=1024.):\n",
    "    freqs = np.abs(np.fft.fftfreq(samples, 1/samplerate))\n",
    "    f = np.zeros(samples)\n",
    "    idx = np.where(np.logical_and(freqs>=min_freq, freqs<=max_freq))[0]\n",
    "    f[idx] = 1\n",
    "    return fftnoise(f)\n",
    "\n",
    "x = band_limited_noise(30, 120, samples=10240)\n",
    "x = np.int16(x * (2**15 - 1))\n",
    "\n",
    "ft = scipy.fftpack.fft(x)\n",
    "\n",
    "# Raw data\n",
    "plt.figure()\n",
    "plt.plot(x)\n",
    "\n",
    "f, t, spect = scipy.signal.spectrogram(x, fs=1024., nperseg=100)\n",
    "\n",
    "# Spectrogram of data\n",
    "plt.figure(figsize=(10,10))\n",
    "plt.subplot(211)\n",
    "plt.pcolormesh(t, f, spect, cmap='jet')\n",
    "plt.colorbar\n",
    "\n",
    "# plt.subplot(212)\n",
    "# plt.plot(np.abs(ft))\n",
    "\n",
    "# Spectrogram of data after notch\n",
    "x_new = buttfilt(x, freq_range=np.array([30, 50]), sample_rate=1024., filt_type='bandpass', num_harmonics=1)\n",
    "\n",
    "f, t, spect = scipy.signal.spectrogram(x_new, fs=1024., nperseg=100)\n",
    "plt.figure()\n",
    "plt.pcolormesh(t, f, spect,cmap='jet')\n",
    "\n",
    "\n",
    "# adaptive filtered...\n",
    "x_new = removePowerLine(np.reshape(x, (1, len(x))), 2, [50, 0.01, 4], [0.1, 2, 4], 2)\n",
    "\n",
    "f, t, spect = scipy.signal.spectrogram(np.ndarray.flatten(x_new), fs=1024., nperseg=100)\n",
    "plt.figure()\n",
    "plt.pcolormesh(t, f, spect,cmap='jet')"
   ]
  },
  {
   "cell_type": "markdown",
   "metadata": {},
   "source": [
    "## Prototype of Clinical Data Model\n",
    "This will be the class that holds clinical data for a certain patient dataset"
   ]
  },
  {
   "cell_type": "code",
   "execution_count": null,
   "metadata": {
    "collapsed": false
   },
   "outputs": [],
   "source": [
    "class ClinicalModel(object):\n",
    "    \"\"\"\n",
    "    \n",
    "    \"\"\"\n",
    "    def __init__(self, name, ez_labels=None, earlyspread_labels=None, latespread_labels=None, resection_labels=None,\\\n",
    "                 clinical_onset_ms=None, clinial_offset_ms=None,\\\n",
    "                 elec_onset_ms=None, elec_offset_ms=None,\\\n",
    "                 elec_xyz=None, center=None, elec_labels=None, included_indices=None):\n",
    "        self.name = name\n",
    "        self.ez_labels = ez_labels\n",
    "        self.earlyspread_labels = earlyspread_labels\n",
    "        self.latespread_labels = latespread_labels\n",
    "        self.resection_labels = resection_labels\n",
    "        self.clinical_onset_ms = clinical_onset_ms\n",
    "        self.clinial_offset_ms = clinial_offset_ms\n",
    "        self.elec_onset_ms = elec_onset_ms\n",
    "        self.elec_offset_ms = elec_offset_ms\n",
    "        self.elec_xyz = elec_xyz\n",
    "        self.center = center\n",
    "        self.elec_labels = elec_labels\n",
    "        self.included_indices = included_indices\n",
    "    \n",
    "    "
   ]
  },
  {
   "cell_type": "code",
   "execution_count": null,
   "metadata": {
    "collapsed": true
   },
   "outputs": [],
   "source": []
  },
  {
   "cell_type": "markdown",
   "metadata": {},
   "source": [
    "## Prototype of Perturbation Model \n",
    "This is the class that stores the perturbation computed matrices, minimum norm deltas and fragility metric for the linear time varying model."
   ]
  },
  {
   "cell_type": "code",
   "execution_count": 32,
   "metadata": {
    "collapsed": true
   },
   "outputs": [],
   "source": [
    "class PerturbationModel(object):\n",
    "    \"\"\"\n",
    "    \n",
    "    \"\"\"\n",
    "    def __init__(self, name, radius=1.0, perturbationType='C'):\n",
    "        self.name = name\n",
    "        self.radius = radius\n",
    "        self.perturbation_type = perturbation_type\n",
    "        \n",
    "    "
   ]
  },
  {
   "cell_type": "code",
   "execution_count": null,
   "metadata": {
    "collapsed": true
   },
   "outputs": [],
   "source": []
  },
  {
   "cell_type": "code",
   "execution_count": 5,
   "metadata": {
    "collapsed": false
   },
   "outputs": [
    {
     "name": "stdout",
     "output_type": "stream",
     "text": [
      "Starting patient  pt1sz2\n"
     ]
    },
    {
     "ename": "OSError",
     "evalue": "[Errno 2] No such file or directory: '../fragility_dataanalysis/data/json/pt1sz2/'",
     "output_type": "error",
     "traceback": [
      "\u001b[0;31m---------------------------------------------------------------------------\u001b[0m",
      "\u001b[0;31mOSError\u001b[0m                                   Traceback (most recent call last)",
      "\u001b[0;32m<ipython-input-5-b8be23fbccda>\u001b[0m in \u001b[0;36m<module>\u001b[0;34m()\u001b[0m\n\u001b[1;32m      7\u001b[0m     \u001b[0mpatientDir\u001b[0m \u001b[0;34m=\u001b[0m \u001b[0mnewDataDir\u001b[0m \u001b[0;34m+\u001b[0m \u001b[0mpatient\u001b[0m \u001b[0;34m+\u001b[0m \u001b[0;34m'/'\u001b[0m\u001b[0;34m\u001b[0m\u001b[0m\n\u001b[1;32m      8\u001b[0m     \u001b[0mjsonFiles\u001b[0m \u001b[0;34m=\u001b[0m \u001b[0;34m[\u001b[0m\u001b[0;34m]\u001b[0m\u001b[0;34m\u001b[0m\u001b[0m\n\u001b[0;32m----> 9\u001b[0;31m     \u001b[0;32mfor\u001b[0m \u001b[0mfile\u001b[0m \u001b[0;32min\u001b[0m \u001b[0mos\u001b[0m\u001b[0;34m.\u001b[0m\u001b[0mlistdir\u001b[0m\u001b[0;34m(\u001b[0m\u001b[0mpatientDir\u001b[0m\u001b[0;34m)\u001b[0m\u001b[0;34m:\u001b[0m\u001b[0;34m\u001b[0m\u001b[0m\n\u001b[0m\u001b[1;32m     10\u001b[0m         \u001b[0;32mif\u001b[0m \u001b[0mfile\u001b[0m\u001b[0;34m.\u001b[0m\u001b[0mendswith\u001b[0m\u001b[0;34m(\u001b[0m\u001b[0;34m'.json'\u001b[0m\u001b[0;34m)\u001b[0m\u001b[0;34m:\u001b[0m\u001b[0;34m\u001b[0m\u001b[0m\n\u001b[1;32m     11\u001b[0m             \u001b[0mjsonFiles\u001b[0m\u001b[0;34m.\u001b[0m\u001b[0mappend\u001b[0m\u001b[0;34m(\u001b[0m\u001b[0mfile\u001b[0m\u001b[0;34m)\u001b[0m\u001b[0;34m\u001b[0m\u001b[0m\n",
      "\u001b[0;31mOSError\u001b[0m: [Errno 2] No such file or directory: '../fragility_dataanalysis/data/json/pt1sz2/'"
     ]
    }
   ],
   "source": [
    "# get mat files in a patient's directory\n",
    "patient = patients[0]\n",
    "\n",
    "for patient in patients:\n",
    "    print \"Starting patient \", patient\n",
    "    \n",
    "    patientDir = newDataDir + patient + '/'\n",
    "    jsonFiles = []\n",
    "    for file in os.listdir(patientDir):\n",
    "        if file.endswith('.json'):\n",
    "            jsonFiles.append(file)\n",
    "\n",
    "    if len(jsonFiles) > 1:\n",
    "        print \"There is too many .mat files in this directory!\"\n",
    "        print \"Check patient \", patient\n",
    "\n",
    "#     matFile = patientDir + matFiles[0]\n",
    "#     data = loadmat(matFile)\n",
    "\n",
    "#     fileName = newDataDir + patient + 'raw.json.bz2'\n",
    "#     try:\n",
    "#         convertMatToJSON(data, fileName)\n",
    "#     except:\n",
    "#         print \"Problem with \", patient\n"
   ]
  },
  {
   "cell_type": "code",
   "execution_count": null,
   "metadata": {
    "collapsed": true
   },
   "outputs": [],
   "source": []
  }
 ],
 "metadata": {
  "kernelspec": {
   "display_name": "Python 2",
   "language": "python",
   "name": "python2"
  },
  "language_info": {
   "codemirror_mode": {
    "name": "ipython",
    "version": 2
   },
   "file_extension": ".py",
   "mimetype": "text/x-python",
   "name": "python",
   "nbconvert_exporter": "python",
   "pygments_lexer": "ipython2",
   "version": "2.7.12"
  }
 },
 "nbformat": 4,
 "nbformat_minor": 0
}
